{
 "cells": [
  {
   "cell_type": "markdown",
   "metadata": {},
   "source": [
    "# Extract tracks matching STARS"
   ]
  },
  {
   "cell_type": "markdown",
   "metadata": {},
   "source": [
    "Tracking experiment uses \n",
    "* ERA5\n",
    "* control run\n",
    "* full period (2000-2018)\n",
    "* Blender & Schubert (2000) matching method with beta = 100\n",
    "\n",
    "STARS tracks are selected by\n",
    "* lifetime exceeding 6 h\n",
    "* within region of 21W, 51E, 64S, 86N"
   ]
  },
  {
   "cell_type": "code",
   "execution_count": 1,
   "metadata": {},
   "outputs": [],
   "source": [
    "import pandas as pd\n",
    "\n",
    "from octant.core import TrackRun\n",
    "from octant.parts import TrackSettings\n",
    "\n",
    "from common_defs import period\n",
    "from match_to_stars import _make_match_label\n",
    "import mypaths"
   ]
  },
  {
   "cell_type": "code",
   "execution_count": 2,
   "metadata": {},
   "outputs": [],
   "source": [
    "import warnings\n",
    "\n",
    "warnings.filterwarnings(\"ignore\")"
   ]
  },
  {
   "cell_type": "code",
   "execution_count": 3,
   "metadata": {},
   "outputs": [],
   "source": [
    "dset = \"era5\"\n",
    "run_id = 0\n",
    "match_option = {\"method\": \"bs2000\", \"beta\": 100.0}"
   ]
  },
  {
   "cell_type": "markdown",
   "metadata": {},
   "source": [
    "## Use previously calculated matches"
   ]
  },
  {
   "cell_type": "code",
   "execution_count": 4,
   "metadata": {},
   "outputs": [],
   "source": [
    "df = pd.read_csv(\n",
    "    mypaths.procdir\n",
    "    / \"matches\"\n",
    "    / f\"{dset}_run{run_id:03d}_{period}_{_make_match_label(match_option)}.txt\",\n",
    "    skiprows=4,\n",
    "    names=[\"pmc\", \"stars\"],\n",
    ")"
   ]
  },
  {
   "cell_type": "markdown",
   "metadata": {},
   "source": [
    "## Load the control tracking run"
   ]
  },
  {
   "cell_type": "code",
   "execution_count": 5,
   "metadata": {},
   "outputs": [],
   "source": [
    "TR = TrackRun.from_archive(mypaths.procdir / f\"{dset}_run{run_id:03d}_{period}.h5\")"
   ]
  },
  {
   "cell_type": "markdown",
   "metadata": {},
   "source": [
    "Create an empty `TrackRun` to store a subset of tracks."
   ]
  },
  {
   "cell_type": "code",
   "execution_count": 6,
   "metadata": {},
   "outputs": [],
   "source": [
    "tr_sub = TrackRun()"
   ]
  },
  {
   "cell_type": "markdown",
   "metadata": {},
   "source": [
    "Subset the original data."
   ]
  },
  {
   "cell_type": "code",
   "execution_count": 7,
   "metadata": {},
   "outputs": [],
   "source": [
    "tr_sub.data = TR.data.loc[df.pmc]"
   ]
  },
  {
   "cell_type": "markdown",
   "metadata": {},
   "source": [
    "Create a dummy DataFrame with STARS indices."
   ]
  },
  {
   "cell_type": "code",
   "execution_count": 8,
   "metadata": {},
   "outputs": [],
   "source": [
    "stars_inds = pd.DataFrame(\n",
    "    data = df.stars.values,\n",
    "    index=tr_sub.data.index.get_level_values(0).unique(),\n",
    "    columns=[\"STARS_N\"],\n",
    ")"
   ]
  },
  {
   "cell_type": "markdown",
   "metadata": {},
   "source": [
    "And store it in an extra column."
   ]
  },
  {
   "cell_type": "code",
   "execution_count": 9,
   "metadata": {},
   "outputs": [],
   "source": [
    "tr_sub.data = tr_sub.data.join(stars_inds)\n",
    "tr_sub.columns.append(\"STARS_N\")"
   ]
  },
  {
   "cell_type": "markdown",
   "metadata": {},
   "source": [
    "Save the PMCTRACK settings with some comments."
   ]
  },
  {
   "cell_type": "code",
   "execution_count": 10,
   "metadata": {},
   "outputs": [],
   "source": [
    "conf_tr = TR.conf.to_dict()\n",
    "conf_tr.update(\n",
    "    comment=\"ERA5 PMC tracks matched to STARS tracks (>=6h, within [21W, 51E, 64S, 86N]) using Blender and Schubert (2000) method with beta=100.\",\n",
    "    author=\"Denis Sergeev\",\n",
    "    email=\"\",\n",
    ")"
   ]
  },
  {
   "cell_type": "code",
   "execution_count": 11,
   "metadata": {},
   "outputs": [],
   "source": [
    "tr_sub.conf = TrackSettings()\n",
    "tr_sub.conf = tr_sub.conf.from_dict(conf_tr)"
   ]
  },
  {
   "cell_type": "markdown",
   "metadata": {},
   "source": [
    "## Save the result"
   ]
  },
  {
   "cell_type": "code",
   "execution_count": 12,
   "metadata": {},
   "outputs": [],
   "source": [
    "fname = mypaths.procdir / \"era5_run000_2000_2018__matched_to_stars_6h__bs2000_beta100.h5\""
   ]
  },
  {
   "cell_type": "code",
   "execution_count": 13,
   "metadata": {},
   "outputs": [],
   "source": [
    "tr_sub.to_archive(fname)"
   ]
  },
  {
   "cell_type": "markdown",
   "metadata": {},
   "source": [
    "## Test the output"
   ]
  },
  {
   "cell_type": "markdown",
   "metadata": {},
   "source": [
    "Check that the HDF file can be opened without `octant` and using only `pandas`."
   ]
  },
  {
   "cell_type": "code",
   "execution_count": 14,
   "metadata": {},
   "outputs": [],
   "source": [
    "from octant.params import ARCH_KEY"
   ]
  },
  {
   "cell_type": "code",
   "execution_count": 15,
   "metadata": {},
   "outputs": [],
   "source": [
    "with pd.HDFStore(fname, mode=\"r\") as store:\n",
    "    df = store[ARCH_KEY]\n",
    "    metadata = store.get_storer(ARCH_KEY).attrs.metadata\n",
    "df = df.set_index(TR._mux_names)"
   ]
  },
  {
   "cell_type": "code",
   "execution_count": 16,
   "metadata": {
    "collapsed": true,
    "jupyter": {
     "outputs_hidden": true
    }
   },
   "outputs": [
    {
     "data": {
      "text/html": [
       "<div>\n",
       "<style scoped>\n",
       "    .dataframe tbody tr th:only-of-type {\n",
       "        vertical-align: middle;\n",
       "    }\n",
       "\n",
       "    .dataframe tbody tr th {\n",
       "        vertical-align: top;\n",
       "    }\n",
       "\n",
       "    .dataframe thead th {\n",
       "        text-align: right;\n",
       "    }\n",
       "</style>\n",
       "<table border=\"1\" class=\"dataframe\">\n",
       "  <thead>\n",
       "    <tr style=\"text-align: right;\">\n",
       "      <th></th>\n",
       "      <th></th>\n",
       "      <th>lon</th>\n",
       "      <th>lat</th>\n",
       "      <th>vo</th>\n",
       "      <th>time</th>\n",
       "      <th>area</th>\n",
       "      <th>vortex_type</th>\n",
       "      <th>slp</th>\n",
       "      <th>STARS_N</th>\n",
       "    </tr>\n",
       "    <tr>\n",
       "      <th>track_idx</th>\n",
       "      <th>row_idx</th>\n",
       "      <th></th>\n",
       "      <th></th>\n",
       "      <th></th>\n",
       "      <th></th>\n",
       "      <th></th>\n",
       "      <th></th>\n",
       "      <th></th>\n",
       "      <th></th>\n",
       "    </tr>\n",
       "  </thead>\n",
       "  <tbody>\n",
       "    <tr>\n",
       "      <td rowspan=\"5\" valign=\"top\">7559</td>\n",
       "      <td>0</td>\n",
       "      <td>-17.00</td>\n",
       "      <td>68.50</td>\n",
       "      <td>0.000214</td>\n",
       "      <td>2002-01-10 13:00:00</td>\n",
       "      <td>2283.31470</td>\n",
       "      <td>0</td>\n",
       "      <td>983.11115</td>\n",
       "      <td>1</td>\n",
       "    </tr>\n",
       "    <tr>\n",
       "      <td>1</td>\n",
       "      <td>-16.75</td>\n",
       "      <td>68.50</td>\n",
       "      <td>0.000276</td>\n",
       "      <td>2002-01-10 14:00:00</td>\n",
       "      <td>3409.24878</td>\n",
       "      <td>0</td>\n",
       "      <td>983.60498</td>\n",
       "      <td>1</td>\n",
       "    </tr>\n",
       "    <tr>\n",
       "      <td>2</td>\n",
       "      <td>-16.50</td>\n",
       "      <td>68.50</td>\n",
       "      <td>0.000284</td>\n",
       "      <td>2002-01-10 15:00:00</td>\n",
       "      <td>3680.51587</td>\n",
       "      <td>0</td>\n",
       "      <td>983.73743</td>\n",
       "      <td>1</td>\n",
       "    </tr>\n",
       "    <tr>\n",
       "      <td>3</td>\n",
       "      <td>-15.75</td>\n",
       "      <td>68.75</td>\n",
       "      <td>0.000308</td>\n",
       "      <td>2002-01-10 16:00:00</td>\n",
       "      <td>3658.48828</td>\n",
       "      <td>0</td>\n",
       "      <td>984.05365</td>\n",
       "      <td>1</td>\n",
       "    </tr>\n",
       "    <tr>\n",
       "      <td>4</td>\n",
       "      <td>-15.50</td>\n",
       "      <td>68.75</td>\n",
       "      <td>0.000305</td>\n",
       "      <td>2002-01-10 17:00:00</td>\n",
       "      <td>4491.12256</td>\n",
       "      <td>0</td>\n",
       "      <td>984.67206</td>\n",
       "      <td>1</td>\n",
       "    </tr>\n",
       "    <tr>\n",
       "      <td>...</td>\n",
       "      <td>...</td>\n",
       "      <td>...</td>\n",
       "      <td>...</td>\n",
       "      <td>...</td>\n",
       "      <td>...</td>\n",
       "      <td>...</td>\n",
       "      <td>...</td>\n",
       "      <td>...</td>\n",
       "      <td>...</td>\n",
       "    </tr>\n",
       "    <tr>\n",
       "      <td rowspan=\"5\" valign=\"top\">59088</td>\n",
       "      <td>28</td>\n",
       "      <td>49.00</td>\n",
       "      <td>70.50</td>\n",
       "      <td>0.000287</td>\n",
       "      <td>2011-04-01 01:00:00</td>\n",
       "      <td>4643.83398</td>\n",
       "      <td>0</td>\n",
       "      <td>1007.13043</td>\n",
       "      <td>140</td>\n",
       "    </tr>\n",
       "    <tr>\n",
       "      <td>29</td>\n",
       "      <td>49.25</td>\n",
       "      <td>70.50</td>\n",
       "      <td>0.000262</td>\n",
       "      <td>2011-04-01 02:00:00</td>\n",
       "      <td>3379.89575</td>\n",
       "      <td>0</td>\n",
       "      <td>1007.88544</td>\n",
       "      <td>140</td>\n",
       "    </tr>\n",
       "    <tr>\n",
       "      <td>30</td>\n",
       "      <td>49.75</td>\n",
       "      <td>70.50</td>\n",
       "      <td>0.000225</td>\n",
       "      <td>2011-04-01 03:00:00</td>\n",
       "      <td>2862.84985</td>\n",
       "      <td>0</td>\n",
       "      <td>1008.10803</td>\n",
       "      <td>140</td>\n",
       "    </tr>\n",
       "    <tr>\n",
       "      <td>31</td>\n",
       "      <td>49.75</td>\n",
       "      <td>70.25</td>\n",
       "      <td>0.000216</td>\n",
       "      <td>2011-04-01 04:00:00</td>\n",
       "      <td>1563.86938</td>\n",
       "      <td>0</td>\n",
       "      <td>1008.79218</td>\n",
       "      <td>140</td>\n",
       "    </tr>\n",
       "    <tr>\n",
       "      <td>32</td>\n",
       "      <td>50.00</td>\n",
       "      <td>70.25</td>\n",
       "      <td>0.000217</td>\n",
       "      <td>2011-04-01 05:00:00</td>\n",
       "      <td>785.11761</td>\n",
       "      <td>0</td>\n",
       "      <td>1009.18927</td>\n",
       "      <td>140</td>\n",
       "    </tr>\n",
       "  </tbody>\n",
       "</table>\n",
       "<p>3672 rows × 8 columns</p>\n",
       "</div>"
      ],
      "text/plain": [
       "                     lon    lat        vo                time        area  \\\n",
       "track_idx row_idx                                                           \n",
       "7559      0       -17.00  68.50  0.000214 2002-01-10 13:00:00  2283.31470   \n",
       "          1       -16.75  68.50  0.000276 2002-01-10 14:00:00  3409.24878   \n",
       "          2       -16.50  68.50  0.000284 2002-01-10 15:00:00  3680.51587   \n",
       "          3       -15.75  68.75  0.000308 2002-01-10 16:00:00  3658.48828   \n",
       "          4       -15.50  68.75  0.000305 2002-01-10 17:00:00  4491.12256   \n",
       "...                  ...    ...       ...                 ...         ...   \n",
       "59088     28       49.00  70.50  0.000287 2011-04-01 01:00:00  4643.83398   \n",
       "          29       49.25  70.50  0.000262 2011-04-01 02:00:00  3379.89575   \n",
       "          30       49.75  70.50  0.000225 2011-04-01 03:00:00  2862.84985   \n",
       "          31       49.75  70.25  0.000216 2011-04-01 04:00:00  1563.86938   \n",
       "          32       50.00  70.25  0.000217 2011-04-01 05:00:00   785.11761   \n",
       "\n",
       "                  vortex_type         slp  STARS_N  \n",
       "track_idx row_idx                                   \n",
       "7559      0                 0   983.11115        1  \n",
       "          1                 0   983.60498        1  \n",
       "          2                 0   983.73743        1  \n",
       "          3                 0   984.05365        1  \n",
       "          4                 0   984.67206        1  \n",
       "...                       ...         ...      ...  \n",
       "59088     28                0  1007.13043      140  \n",
       "          29                0  1007.88544      140  \n",
       "          30                0  1008.10803      140  \n",
       "          31                0  1008.79218      140  \n",
       "          32                0  1009.18927      140  \n",
       "\n",
       "[3672 rows x 8 columns]"
      ]
     },
     "execution_count": 16,
     "metadata": {},
     "output_type": "execute_result"
    }
   ],
   "source": [
    "df"
   ]
  }
 ],
 "metadata": {
  "kernelspec": {
   "display_name": "Python 3",
   "language": "python",
   "name": "python3"
  },
  "language_info": {
   "codemirror_mode": {
    "name": "ipython",
    "version": 3
   },
   "file_extension": ".py",
   "mimetype": "text/x-python",
   "name": "python",
   "nbconvert_exporter": "python",
   "pygments_lexer": "ipython3",
   "version": "3.6.6"
  }
 },
 "nbformat": 4,
 "nbformat_minor": 4
}
